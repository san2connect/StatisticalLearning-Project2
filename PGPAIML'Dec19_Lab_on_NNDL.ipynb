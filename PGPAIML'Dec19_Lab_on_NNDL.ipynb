{
  "nbformat": 4,
  "nbformat_minor": 0,
  "metadata": {
    "colab": {
      "name": "PGPAIML'Dec19_Lab_on_NNDL.ipynb",
      "provenance": [],
      "collapsed_sections": [],
      "toc_visible": true,
      "include_colab_link": true
    },
    "kernelspec": {
      "display_name": "Python 3",
      "language": "python",
      "name": "python3"
    },
    "language_info": {
      "codemirror_mode": {
        "name": "ipython",
        "version": 3
      },
      "file_extension": ".py",
      "mimetype": "text/x-python",
      "name": "python",
      "nbconvert_exporter": "python",
      "pygments_lexer": "ipython3",
      "version": "3.7.2"
    }
  },
  "cells": [
    {
      "cell_type": "markdown",
      "metadata": {
        "id": "view-in-github",
        "colab_type": "text"
      },
      "source": [
        "<a href=\"https://colab.research.google.com/github/san2connect/StatisticalLearning-Project2/blob/master/PGPAIML'Dec19_Lab_on_NNDL.ipynb\" target=\"_parent\"><img src=\"https://colab.research.google.com/assets/colab-badge.svg\" alt=\"Open In Colab\"/></a>"
      ]
    },
    {
      "cell_type": "markdown",
      "metadata": {
        "id": "YeoiMbH7djEv"
      },
      "source": [
        "# Stock prices dataset\n",
        "The data is of tock exchange's stock listings for each trading day of 2010 to 2016.\n",
        "\n",
        "## Description\n",
        "A brief description of columns.\n",
        "- open: The opening market price of the equity symbol on the date\n",
        "- high: The highest market price of the equity symbol on the date\n",
        "- low: The lowest recorded market price of the equity symbol on the date\n",
        "- close: The closing recorded price of the equity symbol on the date\n",
        "- symbol: Symbol of the listed company\n",
        "- volume: Total traded volume of the equity symbol on the date\n",
        "- date: Date of record"
      ]
    },
    {
      "cell_type": "markdown",
      "metadata": {
        "id": "RSoYY2nII_UW"
      },
      "source": [
        "In this assignment, we will work on the stock prices dataset named \"prices.csv\". Task is to create a Neural Network to classify closing price for a stock based on some parameters."
      ]
    },
    {
      "cell_type": "code",
      "metadata": {
        "id": "PGqq9f8VdLba"
      },
      "source": [
        "# Initialize the random number generator\n",
        "import random\n",
        "random.seed(0)\n",
        "\n",
        "# Ignore the warnings\n",
        "import warnings\n",
        "warnings.filterwarnings(\"ignore\")\n",
        "import numpy as np\n",
        "import matplotlib.pyplot as plt\n",
        "from tensorflow import keras\n",
        "import tensorflow as tf\n",
        "import pandas as pd\n",
        "import seaborn as sns\n",
        "import h5py\n",
        "from sklearn.metrics import classification_report"
      ],
      "execution_count": 180,
      "outputs": []
    },
    {
      "cell_type": "markdown",
      "metadata": {
        "id": "_88voqAH-O6J"
      },
      "source": [
        "## Question 1"
      ]
    },
    {
      "cell_type": "markdown",
      "metadata": {
        "id": "dRHCeJqP-evf"
      },
      "source": [
        "### Load the data\n",
        "- load the csv file and read it using pandas\n",
        "- file name is prices.csv"
      ]
    },
    {
      "cell_type": "code",
      "metadata": {
        "id": "cKVH5v7r-RmC"
      },
      "source": [
        "# run this cell to upload file using GUI if you are using google colab\n",
        "\n",
        "from google.colab import files\n",
        "#files.upload()"
      ],
      "execution_count": 181,
      "outputs": []
    },
    {
      "cell_type": "code",
      "metadata": {
        "id": "Gr4YcffYd1FQ",
        "outputId": "5227845a-f86d-48f0-91f3-ddfef6c34598",
        "colab": {
          "base_uri": "https://localhost:8080/"
        }
      },
      "source": [
        "# run this cell to to mount the google drive if you are using google colab\n",
        "\n",
        "from google.colab import drive\n",
        "drive.mount('/content/drive')\n",
        "data_path = '/content/drive/My Drive/lab-nndl/'"
      ],
      "execution_count": 182,
      "outputs": [
        {
          "output_type": "stream",
          "text": [
            "Drive already mounted at /content/drive; to attempt to forcibly remount, call drive.mount(\"/content/drive\", force_remount=True).\n"
          ],
          "name": "stdout"
        }
      ]
    },
    {
      "cell_type": "code",
      "metadata": {
        "id": "Ii8lUuSeVJBy"
      },
      "source": [
        "import os\n",
        "os.chdir(data_path)"
      ],
      "execution_count": 183,
      "outputs": []
    },
    {
      "cell_type": "code",
      "metadata": {
        "id": "bO9NmG1wEuhf"
      },
      "source": [
        "import pandas as pd \n",
        "\n",
        "df= pd.read_csv(data_path+'prices.csv')"
      ],
      "execution_count": 184,
      "outputs": []
    },
    {
      "cell_type": "code",
      "metadata": {
        "id": "TYtpH5lJcgfW",
        "outputId": "6a963a0c-e948-4e36-c562-04e21c782dea",
        "colab": {
          "base_uri": "https://localhost:8080/",
          "height": 204
        }
      },
      "source": [
        "df.head()"
      ],
      "execution_count": 185,
      "outputs": [
        {
          "output_type": "execute_result",
          "data": {
            "text/html": [
              "<div>\n",
              "<style scoped>\n",
              "    .dataframe tbody tr th:only-of-type {\n",
              "        vertical-align: middle;\n",
              "    }\n",
              "\n",
              "    .dataframe tbody tr th {\n",
              "        vertical-align: top;\n",
              "    }\n",
              "\n",
              "    .dataframe thead th {\n",
              "        text-align: right;\n",
              "    }\n",
              "</style>\n",
              "<table border=\"1\" class=\"dataframe\">\n",
              "  <thead>\n",
              "    <tr style=\"text-align: right;\">\n",
              "      <th></th>\n",
              "      <th>date</th>\n",
              "      <th>symbol</th>\n",
              "      <th>open</th>\n",
              "      <th>close</th>\n",
              "      <th>low</th>\n",
              "      <th>high</th>\n",
              "      <th>volume</th>\n",
              "    </tr>\n",
              "  </thead>\n",
              "  <tbody>\n",
              "    <tr>\n",
              "      <th>0</th>\n",
              "      <td>2016-01-05 00:00:00</td>\n",
              "      <td>WLTW</td>\n",
              "      <td>123.430000</td>\n",
              "      <td>125.839996</td>\n",
              "      <td>122.309998</td>\n",
              "      <td>126.250000</td>\n",
              "      <td>2163600.0</td>\n",
              "    </tr>\n",
              "    <tr>\n",
              "      <th>1</th>\n",
              "      <td>2016-01-06 00:00:00</td>\n",
              "      <td>WLTW</td>\n",
              "      <td>125.239998</td>\n",
              "      <td>119.980003</td>\n",
              "      <td>119.940002</td>\n",
              "      <td>125.540001</td>\n",
              "      <td>2386400.0</td>\n",
              "    </tr>\n",
              "    <tr>\n",
              "      <th>2</th>\n",
              "      <td>2016-01-07 00:00:00</td>\n",
              "      <td>WLTW</td>\n",
              "      <td>116.379997</td>\n",
              "      <td>114.949997</td>\n",
              "      <td>114.930000</td>\n",
              "      <td>119.739998</td>\n",
              "      <td>2489500.0</td>\n",
              "    </tr>\n",
              "    <tr>\n",
              "      <th>3</th>\n",
              "      <td>2016-01-08 00:00:00</td>\n",
              "      <td>WLTW</td>\n",
              "      <td>115.480003</td>\n",
              "      <td>116.620003</td>\n",
              "      <td>113.500000</td>\n",
              "      <td>117.440002</td>\n",
              "      <td>2006300.0</td>\n",
              "    </tr>\n",
              "    <tr>\n",
              "      <th>4</th>\n",
              "      <td>2016-01-11 00:00:00</td>\n",
              "      <td>WLTW</td>\n",
              "      <td>117.010002</td>\n",
              "      <td>114.970001</td>\n",
              "      <td>114.089996</td>\n",
              "      <td>117.330002</td>\n",
              "      <td>1408600.0</td>\n",
              "    </tr>\n",
              "  </tbody>\n",
              "</table>\n",
              "</div>"
            ],
            "text/plain": [
              "                  date symbol        open  ...         low        high     volume\n",
              "0  2016-01-05 00:00:00   WLTW  123.430000  ...  122.309998  126.250000  2163600.0\n",
              "1  2016-01-06 00:00:00   WLTW  125.239998  ...  119.940002  125.540001  2386400.0\n",
              "2  2016-01-07 00:00:00   WLTW  116.379997  ...  114.930000  119.739998  2489500.0\n",
              "3  2016-01-08 00:00:00   WLTW  115.480003  ...  113.500000  117.440002  2006300.0\n",
              "4  2016-01-11 00:00:00   WLTW  117.010002  ...  114.089996  117.330002  1408600.0\n",
              "\n",
              "[5 rows x 7 columns]"
            ]
          },
          "metadata": {
            "tags": []
          },
          "execution_count": 185
        }
      ]
    },
    {
      "cell_type": "code",
      "metadata": {
        "id": "oLk6cYbpc2Jc",
        "outputId": "6d622795-374c-47a9-bfc6-0c7fa6ef3fd4",
        "colab": {
          "base_uri": "https://localhost:8080/",
          "height": 297
        }
      },
      "source": [
        "df.describe()"
      ],
      "execution_count": 186,
      "outputs": [
        {
          "output_type": "execute_result",
          "data": {
            "text/html": [
              "<div>\n",
              "<style scoped>\n",
              "    .dataframe tbody tr th:only-of-type {\n",
              "        vertical-align: middle;\n",
              "    }\n",
              "\n",
              "    .dataframe tbody tr th {\n",
              "        vertical-align: top;\n",
              "    }\n",
              "\n",
              "    .dataframe thead th {\n",
              "        text-align: right;\n",
              "    }\n",
              "</style>\n",
              "<table border=\"1\" class=\"dataframe\">\n",
              "  <thead>\n",
              "    <tr style=\"text-align: right;\">\n",
              "      <th></th>\n",
              "      <th>open</th>\n",
              "      <th>close</th>\n",
              "      <th>low</th>\n",
              "      <th>high</th>\n",
              "      <th>volume</th>\n",
              "    </tr>\n",
              "  </thead>\n",
              "  <tbody>\n",
              "    <tr>\n",
              "      <th>count</th>\n",
              "      <td>851264.000000</td>\n",
              "      <td>851264.000000</td>\n",
              "      <td>851264.000000</td>\n",
              "      <td>851264.000000</td>\n",
              "      <td>8.512640e+05</td>\n",
              "    </tr>\n",
              "    <tr>\n",
              "      <th>mean</th>\n",
              "      <td>70.836986</td>\n",
              "      <td>70.857109</td>\n",
              "      <td>70.118414</td>\n",
              "      <td>71.543476</td>\n",
              "      <td>5.415113e+06</td>\n",
              "    </tr>\n",
              "    <tr>\n",
              "      <th>std</th>\n",
              "      <td>83.695876</td>\n",
              "      <td>83.689686</td>\n",
              "      <td>82.877294</td>\n",
              "      <td>84.465504</td>\n",
              "      <td>1.249468e+07</td>\n",
              "    </tr>\n",
              "    <tr>\n",
              "      <th>min</th>\n",
              "      <td>0.850000</td>\n",
              "      <td>0.860000</td>\n",
              "      <td>0.830000</td>\n",
              "      <td>0.880000</td>\n",
              "      <td>0.000000e+00</td>\n",
              "    </tr>\n",
              "    <tr>\n",
              "      <th>25%</th>\n",
              "      <td>33.840000</td>\n",
              "      <td>33.849998</td>\n",
              "      <td>33.480000</td>\n",
              "      <td>34.189999</td>\n",
              "      <td>1.221500e+06</td>\n",
              "    </tr>\n",
              "    <tr>\n",
              "      <th>50%</th>\n",
              "      <td>52.770000</td>\n",
              "      <td>52.799999</td>\n",
              "      <td>52.230000</td>\n",
              "      <td>53.310001</td>\n",
              "      <td>2.476250e+06</td>\n",
              "    </tr>\n",
              "    <tr>\n",
              "      <th>75%</th>\n",
              "      <td>79.879997</td>\n",
              "      <td>79.889999</td>\n",
              "      <td>79.110001</td>\n",
              "      <td>80.610001</td>\n",
              "      <td>5.222500e+06</td>\n",
              "    </tr>\n",
              "    <tr>\n",
              "      <th>max</th>\n",
              "      <td>1584.439941</td>\n",
              "      <td>1578.130005</td>\n",
              "      <td>1549.939941</td>\n",
              "      <td>1600.930054</td>\n",
              "      <td>8.596434e+08</td>\n",
              "    </tr>\n",
              "  </tbody>\n",
              "</table>\n",
              "</div>"
            ],
            "text/plain": [
              "                open          close            low           high        volume\n",
              "count  851264.000000  851264.000000  851264.000000  851264.000000  8.512640e+05\n",
              "mean       70.836986      70.857109      70.118414      71.543476  5.415113e+06\n",
              "std        83.695876      83.689686      82.877294      84.465504  1.249468e+07\n",
              "min         0.850000       0.860000       0.830000       0.880000  0.000000e+00\n",
              "25%        33.840000      33.849998      33.480000      34.189999  1.221500e+06\n",
              "50%        52.770000      52.799999      52.230000      53.310001  2.476250e+06\n",
              "75%        79.879997      79.889999      79.110001      80.610001  5.222500e+06\n",
              "max      1584.439941    1578.130005    1549.939941    1600.930054  8.596434e+08"
            ]
          },
          "metadata": {
            "tags": []
          },
          "execution_count": 186
        }
      ]
    },
    {
      "cell_type": "code",
      "metadata": {
        "id": "2wYC4CYwdM30",
        "outputId": "4f088196-437b-4b5b-8df4-2602ec01c102",
        "colab": {
          "base_uri": "https://localhost:8080/"
        }
      },
      "source": [
        "df.isnull().sum()"
      ],
      "execution_count": 187,
      "outputs": [
        {
          "output_type": "execute_result",
          "data": {
            "text/plain": [
              "date      0\n",
              "symbol    0\n",
              "open      0\n",
              "close     0\n",
              "low       0\n",
              "high      0\n",
              "volume    0\n",
              "dtype: int64"
            ]
          },
          "metadata": {
            "tags": []
          },
          "execution_count": 187
        }
      ]
    },
    {
      "cell_type": "markdown",
      "metadata": {
        "id": "HlLKVPVH_BCT"
      },
      "source": [
        "## Question 2"
      ]
    },
    {
      "cell_type": "markdown",
      "metadata": {
        "id": "ZxoGynuBeO4t"
      },
      "source": [
        "### Drop null\n",
        "- Drop null values if any"
      ]
    },
    {
      "cell_type": "code",
      "metadata": {
        "id": "_yuwJJIeeUaD"
      },
      "source": [
        "# No Null values\n",
        "#df.dropna()"
      ],
      "execution_count": 188,
      "outputs": []
    },
    {
      "cell_type": "markdown",
      "metadata": {
        "id": "9J4BlzVA_gZd"
      },
      "source": [
        "### Drop columns\n",
        "- Now, we don't need \"date\", \"volume\" and \"symbol\" column\n",
        "- drop \"date\", \"volume\" and \"symbol\" column from the data\n"
      ]
    },
    {
      "cell_type": "code",
      "metadata": {
        "id": "IKEK8aEE_Csx"
      },
      "source": [
        "df.drop(columns = ['date','volume','symbol'], axis=1, inplace=True )"
      ],
      "execution_count": 189,
      "outputs": []
    },
    {
      "cell_type": "markdown",
      "metadata": {
        "id": "cTPhO6v-AiZt"
      },
      "source": [
        "## Question 3"
      ]
    },
    {
      "cell_type": "markdown",
      "metadata": {
        "id": "SsZXmF3NAkna"
      },
      "source": [
        "### Print the dataframe\n",
        "- print the modified dataframe"
      ]
    },
    {
      "cell_type": "code",
      "metadata": {
        "id": "aKs04iIHAjxN",
        "outputId": "7e62397f-9d73-449c-b436-601b6e68ca85",
        "colab": {
          "base_uri": "https://localhost:8080/",
          "height": 204
        }
      },
      "source": [
        "df.head()"
      ],
      "execution_count": 190,
      "outputs": [
        {
          "output_type": "execute_result",
          "data": {
            "text/html": [
              "<div>\n",
              "<style scoped>\n",
              "    .dataframe tbody tr th:only-of-type {\n",
              "        vertical-align: middle;\n",
              "    }\n",
              "\n",
              "    .dataframe tbody tr th {\n",
              "        vertical-align: top;\n",
              "    }\n",
              "\n",
              "    .dataframe thead th {\n",
              "        text-align: right;\n",
              "    }\n",
              "</style>\n",
              "<table border=\"1\" class=\"dataframe\">\n",
              "  <thead>\n",
              "    <tr style=\"text-align: right;\">\n",
              "      <th></th>\n",
              "      <th>open</th>\n",
              "      <th>close</th>\n",
              "      <th>low</th>\n",
              "      <th>high</th>\n",
              "    </tr>\n",
              "  </thead>\n",
              "  <tbody>\n",
              "    <tr>\n",
              "      <th>0</th>\n",
              "      <td>123.430000</td>\n",
              "      <td>125.839996</td>\n",
              "      <td>122.309998</td>\n",
              "      <td>126.250000</td>\n",
              "    </tr>\n",
              "    <tr>\n",
              "      <th>1</th>\n",
              "      <td>125.239998</td>\n",
              "      <td>119.980003</td>\n",
              "      <td>119.940002</td>\n",
              "      <td>125.540001</td>\n",
              "    </tr>\n",
              "    <tr>\n",
              "      <th>2</th>\n",
              "      <td>116.379997</td>\n",
              "      <td>114.949997</td>\n",
              "      <td>114.930000</td>\n",
              "      <td>119.739998</td>\n",
              "    </tr>\n",
              "    <tr>\n",
              "      <th>3</th>\n",
              "      <td>115.480003</td>\n",
              "      <td>116.620003</td>\n",
              "      <td>113.500000</td>\n",
              "      <td>117.440002</td>\n",
              "    </tr>\n",
              "    <tr>\n",
              "      <th>4</th>\n",
              "      <td>117.010002</td>\n",
              "      <td>114.970001</td>\n",
              "      <td>114.089996</td>\n",
              "      <td>117.330002</td>\n",
              "    </tr>\n",
              "  </tbody>\n",
              "</table>\n",
              "</div>"
            ],
            "text/plain": [
              "         open       close         low        high\n",
              "0  123.430000  125.839996  122.309998  126.250000\n",
              "1  125.239998  119.980003  119.940002  125.540001\n",
              "2  116.379997  114.949997  114.930000  119.739998\n",
              "3  115.480003  116.620003  113.500000  117.440002\n",
              "4  117.010002  114.970001  114.089996  117.330002"
            ]
          },
          "metadata": {
            "tags": []
          },
          "execution_count": 190
        }
      ]
    },
    {
      "cell_type": "code",
      "metadata": {
        "id": "T3bQiQAEWhFy",
        "outputId": "c6ed4cbb-f4b7-48be-e31a-adb955ee226e",
        "colab": {
          "base_uri": "https://localhost:8080/",
          "height": 743
        }
      },
      "source": [
        "import seaborn as sns\n",
        "\n",
        "sns.pairplot(df[['open', 'close', 'low', 'high']], diag_kind='kde')"
      ],
      "execution_count": 191,
      "outputs": [
        {
          "output_type": "execute_result",
          "data": {
            "text/plain": [
              "<seaborn.axisgrid.PairGrid at 0x7ff7cfa100b8>"
            ]
          },
          "metadata": {
            "tags": []
          },
          "execution_count": 191
        },
        {
          "output_type": "display_data",
          "data": {
            "image/png": "[encoded data removed]",
            "text/plain": [
              "<Figure size 720x720 with 20 Axes>"
            ]
          },
          "metadata": {
            "tags": [],
            "needs_background": "light"
          }
        }
      ]
    },
    {
      "cell_type": "markdown",
      "metadata": {
        "id": "C8u_jlbABTip"
      },
      "source": [
        "### Get features and label from the dataset in separate variable\n",
        "- Let's separate labels and features now. We are going to predict the value for \"close\" column so that will be our label. Our features will be \"open\", \"low\", \"high\"\n",
        "- Take \"open\" \"low\", \"high\" columns as features\n",
        "- Take \"close\" column as label"
      ]
    },
    {
      "cell_type": "code",
      "metadata": {
        "id": "xQjCMzUXBJbg"
      },
      "source": [
        "X = df.drop('close', axis =1)\n",
        "Y = df['close']"
      ],
      "execution_count": 192,
      "outputs": []
    },
    {
      "cell_type": "markdown",
      "metadata": {
        "id": "6vGtnapgBIJm"
      },
      "source": [
        "## Question 4"
      ]
    },
    {
      "cell_type": "markdown",
      "metadata": {
        "id": "8pZAKdJ5gcrm"
      },
      "source": [
        "### Create train and test sets\n",
        "- Split the data into training and testing"
      ]
    },
    {
      "cell_type": "code",
      "metadata": {
        "id": "KalRqA6Rgqsn"
      },
      "source": [
        "from sklearn.model_selection import train_test_split\n",
        "from sklearn.preprocessing import StandardScaler"
      ],
      "execution_count": 193,
      "outputs": []
    },
    {
      "cell_type": "code",
      "metadata": {
        "id": "1NyT7dCyozON"
      },
      "source": [
        "x = df.drop('close', axis= 1)\n",
        "y = df['close']\n"
      ],
      "execution_count": 194,
      "outputs": []
    },
    {
      "cell_type": "code",
      "metadata": {
        "id": "zZU8hyFloirI"
      },
      "source": [
        "x_train, x_test, y_train, y_test = train_test_split(x, y, random_state=7)"
      ],
      "execution_count": 195,
      "outputs": []
    },
    {
      "cell_type": "code",
      "metadata": {
        "id": "sBOCGMZ72KNz",
        "outputId": "aaa40536-f691-4dca-c31a-0d5ae4b26aab",
        "colab": {
          "base_uri": "https://localhost:8080/"
        }
      },
      "source": [
        "print(x_train.shape)\n",
        "print(x_test.shape)\n",
        "print(y_train.shape)\n",
        "print(y_test.shape)"
      ],
      "execution_count": 196,
      "outputs": [
        {
          "output_type": "stream",
          "text": [
            "(638448, 3)\n",
            "(212816, 3)\n",
            "(638448,)\n",
            "(212816,)\n"
          ],
          "name": "stdout"
        }
      ]
    },
    {
      "cell_type": "markdown",
      "metadata": {
        "id": "aTAKzlxZBz0z"
      },
      "source": [
        "## Question 5"
      ]
    },
    {
      "cell_type": "markdown",
      "metadata": {
        "id": "O7BU2qxEg0Ki"
      },
      "source": [
        "### Scaling\n",
        "- Scale the data (features only)\n",
        "- Use StandarScaler"
      ]
    },
    {
      "cell_type": "code",
      "metadata": {
        "id": "AcO8SlhPhBkR"
      },
      "source": [
        "sc = StandardScaler()\n",
        "\n",
        "x_train = sc.fit_transform(x_train)\n",
        "x_test = sc.transform(x_test)"
      ],
      "execution_count": 197,
      "outputs": []
    },
    {
      "cell_type": "code",
      "metadata": {
        "id": "ZkYCUYUtp-rB",
        "outputId": "8e02fce1-cde3-4007-9ea6-7209833e5dd5",
        "colab": {
          "base_uri": "https://localhost:8080/"
        }
      },
      "source": [
        "print(x_train.shape)\n",
        "print(x_test.shape)\n",
        "print(y_train.shape)\n",
        "print(y_test.shape)"
      ],
      "execution_count": 198,
      "outputs": [
        {
          "output_type": "stream",
          "text": [
            "(638448, 3)\n",
            "(212816, 3)\n",
            "(638448,)\n",
            "(212816,)\n"
          ],
          "name": "stdout"
        }
      ]
    },
    {
      "cell_type": "code",
      "metadata": {
        "id": "kSKcTi45rcDX",
        "outputId": "3e9b6a44-6977-41a1-8427-84f960814f1e",
        "colab": {
          "base_uri": "https://localhost:8080/"
        }
      },
      "source": [
        "type(y_train)"
      ],
      "execution_count": 199,
      "outputs": [
        {
          "output_type": "execute_result",
          "data": {
            "text/plain": [
              "pandas.core.series.Series"
            ]
          },
          "metadata": {
            "tags": []
          },
          "execution_count": 199
        }
      ]
    },
    {
      "cell_type": "markdown",
      "metadata": {
        "id": "3TWpN0nVTpUx"
      },
      "source": [
        "## Question 6"
      ]
    },
    {
      "cell_type": "markdown",
      "metadata": {
        "id": "_sj0LYNkhR-L"
      },
      "source": [
        "### Convert data to NumPy array\n",
        "- Convert features and labels to numpy array"
      ]
    },
    {
      "cell_type": "code",
      "metadata": {
        "id": "X6mIfuTxhbTT"
      },
      "source": [
        "x_train_numpy = np.array(x_train)\n",
        "x_test_numpy = np.array(x_test)"
      ],
      "execution_count": 200,
      "outputs": []
    },
    {
      "cell_type": "code",
      "metadata": {
        "id": "WDhDsmwCryXO",
        "outputId": "5d8ca88c-2323-4289-add4-fa035a95af55",
        "colab": {
          "base_uri": "https://localhost:8080/"
        }
      },
      "source": [
        "type(x_test_numpy)"
      ],
      "execution_count": 201,
      "outputs": [
        {
          "output_type": "execute_result",
          "data": {
            "text/plain": [
              "numpy.ndarray"
            ]
          },
          "metadata": {
            "tags": []
          },
          "execution_count": 201
        }
      ]
    },
    {
      "cell_type": "code",
      "metadata": {
        "id": "qSdgA0lwvLTk",
        "outputId": "0c161907-06d9-47bf-984d-b96111bb6661",
        "colab": {
          "base_uri": "https://localhost:8080/"
        }
      },
      "source": [
        "type(y_train)"
      ],
      "execution_count": 202,
      "outputs": [
        {
          "output_type": "execute_result",
          "data": {
            "text/plain": [
              "pandas.core.series.Series"
            ]
          },
          "metadata": {
            "tags": []
          },
          "execution_count": 202
        }
      ]
    },
    {
      "cell_type": "code",
      "metadata": {
        "id": "toKhUWlsz0i0"
      },
      "source": [
        "tf.keras.backend.clear_session()"
      ],
      "execution_count": 203,
      "outputs": []
    },
    {
      "cell_type": "markdown",
      "metadata": {
        "id": "wmXUGc2oTspa"
      },
      "source": [
        "## Question 7"
      ]
    },
    {
      "cell_type": "markdown",
      "metadata": {
        "id": "cl2M9whFh6mh"
      },
      "source": [
        "### Define Model\n",
        "- Initialize a Sequential model\n",
        "- Add a Flatten layer\n",
        "- Add a Dense layer with one neuron as output\n",
        "  - add 'linear' as activation function\n"
      ]
    },
    {
      "cell_type": "code",
      "metadata": {
        "id": "Ar75wSrM3Ode"
      },
      "source": [
        "model = keras.Sequential()\n",
        "model.add(keras.layers.Flatten( ))\n",
        "model.add(keras.layers.Dense(units = 1 , activation = 'linear'))\n"
      ],
      "execution_count": 204,
      "outputs": []
    },
    {
      "cell_type": "code",
      "metadata": {
        "id": "6HdOPcD40jIt",
        "outputId": "ca71020f-bff6-42fc-dd47-0980444d58c7",
        "colab": {
          "base_uri": "https://localhost:8080/"
        }
      },
      "source": [
        "x_train_numpy.shape[1]"
      ],
      "execution_count": 205,
      "outputs": [
        {
          "output_type": "execute_result",
          "data": {
            "text/plain": [
              "3"
            ]
          },
          "metadata": {
            "tags": []
          },
          "execution_count": 205
        }
      ]
    },
    {
      "cell_type": "markdown",
      "metadata": {
        "id": "8a0wr94aTyjg"
      },
      "source": [
        "## Question 8"
      ]
    },
    {
      "cell_type": "markdown",
      "metadata": {
        "id": "BNZPb5lKioX0"
      },
      "source": [
        "### Compile the model\n",
        "- Compile the model\n",
        "- Use \"sgd\" optimizer\n",
        "- for calculating loss, use mean squared error"
      ]
    },
    {
      "cell_type": "code",
      "metadata": {
        "id": "Bwmu8WeMuXlG"
      },
      "source": [
        "model.compile(optimizer='sgd', loss = 'mean_squared_error', metrics=['mse', 'mae', 'accuracy'])"
      ],
      "execution_count": 206,
      "outputs": []
    },
    {
      "cell_type": "markdown",
      "metadata": {
        "id": "ZbBpnOtfT0wd"
      },
      "source": [
        "## Question 9"
      ]
    },
    {
      "cell_type": "markdown",
      "metadata": {
        "id": "n9o45OHdjDhA"
      },
      "source": [
        "### Fit the model\n",
        "- epochs: 50\n",
        "- batch size: 128\n",
        "- specify validation data"
      ]
    },
    {
      "cell_type": "code",
      "metadata": {
        "id": "-Y6tA30XjOH2",
        "outputId": "6f552dd4-aced-49b6-bff4-e913e67e9494",
        "colab": {
          "base_uri": "https://localhost:8080/"
        }
      },
      "source": [
        "history= model.fit(x_train, y_train, epochs= 50, validation_data=(x_test, y_test), batch_size= 128)"
      ],
      "execution_count": 207,
      "outputs": [
        {
          "output_type": "stream",
          "text": [
            "Epoch 1/50\n",
            "4988/4988 [==============================] - 6s 1ms/step - loss: 38.9386 - mse: 38.9386 - mae: 1.1704 - accuracy: 4.6989e-06 - val_loss: 0.9877 - val_mse: 0.9877 - val_mae: 0.4912 - val_accuracy: 0.0000e+00\n",
            "Epoch 2/50\n",
            "4988/4988 [==============================] - 6s 1ms/step - loss: 0.9931 - mse: 0.9931 - mae: 0.4843 - accuracy: 4.6989e-06 - val_loss: 0.9531 - val_mse: 0.9531 - val_mae: 0.4806 - val_accuracy: 0.0000e+00\n",
            "Epoch 3/50\n",
            "4988/4988 [==============================] - 6s 1ms/step - loss: 0.9869 - mse: 0.9869 - mae: 0.4826 - accuracy: 4.6989e-06 - val_loss: 0.9406 - val_mse: 0.9406 - val_mae: 0.4783 - val_accuracy: 0.0000e+00\n",
            "Epoch 4/50\n",
            "4988/4988 [==============================] - 6s 1ms/step - loss: 0.9781 - mse: 0.9781 - mae: 0.4810 - accuracy: 4.6989e-06 - val_loss: 0.9467 - val_mse: 0.9467 - val_mae: 0.4807 - val_accuracy: 0.0000e+00\n",
            "Epoch 5/50\n",
            "4988/4988 [==============================] - 6s 1ms/step - loss: 0.9702 - mse: 0.9702 - mae: 0.4797 - accuracy: 4.6989e-06 - val_loss: 0.9261 - val_mse: 0.9261 - val_mae: 0.4745 - val_accuracy: 0.0000e+00\n",
            "Epoch 6/50\n",
            "4988/4988 [==============================] - 6s 1ms/step - loss: 0.9615 - mse: 0.9615 - mae: 0.4778 - accuracy: 4.6989e-06 - val_loss: 0.9231 - val_mse: 0.9231 - val_mae: 0.4746 - val_accuracy: 0.0000e+00\n",
            "Epoch 7/50\n",
            "4988/4988 [==============================] - 6s 1ms/step - loss: 0.9555 - mse: 0.9555 - mae: 0.4760 - accuracy: 4.6989e-06 - val_loss: 0.9205 - val_mse: 0.9205 - val_mae: 0.4732 - val_accuracy: 0.0000e+00\n",
            "Epoch 8/50\n",
            "4988/4988 [==============================] - 6s 1ms/step - loss: 0.9473 - mse: 0.9473 - mae: 0.4746 - accuracy: 4.6989e-06 - val_loss: 0.9064 - val_mse: 0.9064 - val_mae: 0.4696 - val_accuracy: 0.0000e+00\n",
            "Epoch 9/50\n",
            "4988/4988 [==============================] - 8s 2ms/step - loss: 0.9409 - mse: 0.9409 - mae: 0.4728 - accuracy: 4.6989e-06 - val_loss: 0.9377 - val_mse: 0.9377 - val_mae: 0.4781 - val_accuracy: 0.0000e+00\n",
            "Epoch 10/50\n",
            "4988/4988 [==============================] - 7s 1ms/step - loss: 0.9361 - mse: 0.9361 - mae: 0.4711 - accuracy: 4.6989e-06 - val_loss: 0.8923 - val_mse: 0.8923 - val_mae: 0.4664 - val_accuracy: 0.0000e+00\n",
            "Epoch 11/50\n",
            "4988/4988 [==============================] - 6s 1ms/step - loss: 0.9278 - mse: 0.9278 - mae: 0.4699 - accuracy: 4.6989e-06 - val_loss: 0.8860 - val_mse: 0.8860 - val_mae: 0.4655 - val_accuracy: 0.0000e+00\n",
            "Epoch 12/50\n",
            "4988/4988 [==============================] - 6s 1ms/step - loss: 0.9193 - mse: 0.9193 - mae: 0.4681 - accuracy: 4.6989e-06 - val_loss: 0.8916 - val_mse: 0.8916 - val_mae: 0.4661 - val_accuracy: 0.0000e+00\n",
            "Epoch 13/50\n",
            "4988/4988 [==============================] - 6s 1ms/step - loss: 0.9129 - mse: 0.9129 - mae: 0.4668 - accuracy: 4.6989e-06 - val_loss: 0.8728 - val_mse: 0.8728 - val_mae: 0.4620 - val_accuracy: 0.0000e+00\n",
            "Epoch 14/50\n",
            "4988/4988 [==============================] - 6s 1ms/step - loss: 0.9056 - mse: 0.9056 - mae: 0.4654 - accuracy: 4.6989e-06 - val_loss: 0.9197 - val_mse: 0.9197 - val_mae: 0.4789 - val_accuracy: 0.0000e+00\n",
            "Epoch 15/50\n",
            "4988/4988 [==============================] - 6s 1ms/step - loss: 0.9003 - mse: 0.9003 - mae: 0.4636 - accuracy: 4.6989e-06 - val_loss: 0.8620 - val_mse: 0.8620 - val_mae: 0.4601 - val_accuracy: 0.0000e+00\n",
            "Epoch 16/50\n",
            "4988/4988 [==============================] - 6s 1ms/step - loss: 0.8940 - mse: 0.8940 - mae: 0.4621 - accuracy: 4.6989e-06 - val_loss: 0.8545 - val_mse: 0.8545 - val_mae: 0.4576 - val_accuracy: 0.0000e+00\n",
            "Epoch 17/50\n",
            "4988/4988 [==============================] - 6s 1ms/step - loss: 0.8881 - mse: 0.8881 - mae: 0.4607 - accuracy: 4.6989e-06 - val_loss: 0.8533 - val_mse: 0.8533 - val_mae: 0.4573 - val_accuracy: 0.0000e+00\n",
            "Epoch 18/50\n",
            "4988/4988 [==============================] - 6s 1ms/step - loss: 0.8816 - mse: 0.8816 - mae: 0.4592 - accuracy: 4.6989e-06 - val_loss: 0.8430 - val_mse: 0.8430 - val_mae: 0.4545 - val_accuracy: 0.0000e+00\n",
            "Epoch 19/50\n",
            "4988/4988 [==============================] - 6s 1ms/step - loss: 0.8754 - mse: 0.8754 - mae: 0.4574 - accuracy: 4.6989e-06 - val_loss: 0.8367 - val_mse: 0.8367 - val_mae: 0.4533 - val_accuracy: 0.0000e+00\n",
            "Epoch 20/50\n",
            "4988/4988 [==============================] - 6s 1ms/step - loss: 0.8705 - mse: 0.8705 - mae: 0.4561 - accuracy: 4.6989e-06 - val_loss: 0.8321 - val_mse: 0.8321 - val_mae: 0.4520 - val_accuracy: 0.0000e+00\n",
            "Epoch 21/50\n",
            "4988/4988 [==============================] - 6s 1ms/step - loss: 0.8629 - mse: 0.8629 - mae: 0.4550 - accuracy: 4.6989e-06 - val_loss: 0.8282 - val_mse: 0.8282 - val_mae: 0.4521 - val_accuracy: 0.0000e+00\n",
            "Epoch 22/50\n",
            "4988/4988 [==============================] - 6s 1ms/step - loss: 0.8573 - mse: 0.8573 - mae: 0.4536 - accuracy: 4.6989e-06 - val_loss: 0.8576 - val_mse: 0.8576 - val_mae: 0.4631 - val_accuracy: 0.0000e+00\n",
            "Epoch 23/50\n",
            "4988/4988 [==============================] - 6s 1ms/step - loss: 0.8519 - mse: 0.8519 - mae: 0.4521 - accuracy: 4.6989e-06 - val_loss: 0.8156 - val_mse: 0.8156 - val_mae: 0.4483 - val_accuracy: 0.0000e+00\n",
            "Epoch 24/50\n",
            "4988/4988 [==============================] - 6s 1ms/step - loss: 0.8455 - mse: 0.8455 - mae: 0.4507 - accuracy: 4.6989e-06 - val_loss: 0.8091 - val_mse: 0.8091 - val_mae: 0.4467 - val_accuracy: 0.0000e+00\n",
            "Epoch 25/50\n",
            "4988/4988 [==============================] - 6s 1ms/step - loss: 0.8402 - mse: 0.8402 - mae: 0.4491 - accuracy: 4.6989e-06 - val_loss: 0.8211 - val_mse: 0.8211 - val_mae: 0.4517 - val_accuracy: 0.0000e+00\n",
            "Epoch 26/50\n",
            "4988/4988 [==============================] - 6s 1ms/step - loss: 0.8343 - mse: 0.8343 - mae: 0.4480 - accuracy: 4.6989e-06 - val_loss: 0.8032 - val_mse: 0.8032 - val_mae: 0.4447 - val_accuracy: 0.0000e+00\n",
            "Epoch 27/50\n",
            "4988/4988 [==============================] - 6s 1ms/step - loss: 0.8283 - mse: 0.8283 - mae: 0.4466 - accuracy: 4.6989e-06 - val_loss: 0.7996 - val_mse: 0.7996 - val_mae: 0.4437 - val_accuracy: 0.0000e+00\n",
            "Epoch 28/50\n",
            "4988/4988 [==============================] - 6s 1ms/step - loss: 0.8227 - mse: 0.8227 - mae: 0.4455 - accuracy: 4.6989e-06 - val_loss: 0.7876 - val_mse: 0.7876 - val_mae: 0.4410 - val_accuracy: 0.0000e+00\n",
            "Epoch 29/50\n",
            "4988/4988 [==============================] - 6s 1ms/step - loss: 0.8183 - mse: 0.8183 - mae: 0.4441 - accuracy: 4.6989e-06 - val_loss: 0.7903 - val_mse: 0.7903 - val_mae: 0.4431 - val_accuracy: 0.0000e+00\n",
            "Epoch 30/50\n",
            "4988/4988 [==============================] - 6s 1ms/step - loss: 0.8113 - mse: 0.8113 - mae: 0.4428 - accuracy: 4.6989e-06 - val_loss: 0.7776 - val_mse: 0.7776 - val_mae: 0.4386 - val_accuracy: 0.0000e+00\n",
            "Epoch 31/50\n",
            "4988/4988 [==============================] - 6s 1ms/step - loss: 0.8077 - mse: 0.8077 - mae: 0.4415 - accuracy: 4.6989e-06 - val_loss: 0.7729 - val_mse: 0.7729 - val_mae: 0.4373 - val_accuracy: 0.0000e+00\n",
            "Epoch 32/50\n",
            "4988/4988 [==============================] - 6s 1ms/step - loss: 0.8022 - mse: 0.8022 - mae: 0.4401 - accuracy: 4.6989e-06 - val_loss: 0.7677 - val_mse: 0.7677 - val_mae: 0.4360 - val_accuracy: 0.0000e+00\n",
            "Epoch 33/50\n",
            "4988/4988 [==============================] - 6s 1ms/step - loss: 0.7965 - mse: 0.7965 - mae: 0.4391 - accuracy: 4.6989e-06 - val_loss: 0.7638 - val_mse: 0.7638 - val_mae: 0.4353 - val_accuracy: 0.0000e+00\n",
            "Epoch 34/50\n",
            "4988/4988 [==============================] - 6s 1ms/step - loss: 0.7915 - mse: 0.7915 - mae: 0.4377 - accuracy: 4.6989e-06 - val_loss: 0.7615 - val_mse: 0.7615 - val_mae: 0.4353 - val_accuracy: 0.0000e+00\n",
            "Epoch 35/50\n",
            "4988/4988 [==============================] - 6s 1ms/step - loss: 0.7868 - mse: 0.7868 - mae: 0.4365 - accuracy: 4.6989e-06 - val_loss: 0.7580 - val_mse: 0.7580 - val_mae: 0.4338 - val_accuracy: 0.0000e+00\n",
            "Epoch 36/50\n",
            "4988/4988 [==============================] - 6s 1ms/step - loss: 0.7810 - mse: 0.7810 - mae: 0.4356 - accuracy: 4.6989e-06 - val_loss: 0.7584 - val_mse: 0.7584 - val_mae: 0.4354 - val_accuracy: 0.0000e+00\n",
            "Epoch 37/50\n",
            "4988/4988 [==============================] - 6s 1ms/step - loss: 0.7781 - mse: 0.7781 - mae: 0.4340 - accuracy: 4.6989e-06 - val_loss: 0.7451 - val_mse: 0.7451 - val_mae: 0.4300 - val_accuracy: 0.0000e+00\n",
            "Epoch 38/50\n",
            "4988/4988 [==============================] - 6s 1ms/step - loss: 0.7730 - mse: 0.7730 - mae: 0.4329 - accuracy: 4.6989e-06 - val_loss: 0.7413 - val_mse: 0.7413 - val_mae: 0.4291 - val_accuracy: 0.0000e+00\n",
            "Epoch 39/50\n",
            "4988/4988 [==============================] - 6s 1ms/step - loss: 0.7674 - mse: 0.7674 - mae: 0.4319 - accuracy: 4.6989e-06 - val_loss: 0.7385 - val_mse: 0.7385 - val_mae: 0.4285 - val_accuracy: 0.0000e+00\n",
            "Epoch 40/50\n",
            "4988/4988 [==============================] - 6s 1ms/step - loss: 0.7632 - mse: 0.7632 - mae: 0.4308 - accuracy: 4.6989e-06 - val_loss: 0.7400 - val_mse: 0.7400 - val_mae: 0.4285 - val_accuracy: 0.0000e+00\n",
            "Epoch 41/50\n",
            "4988/4988 [==============================] - 6s 1ms/step - loss: 0.7587 - mse: 0.7587 - mae: 0.4295 - accuracy: 4.6989e-06 - val_loss: 0.7327 - val_mse: 0.7327 - val_mae: 0.4268 - val_accuracy: 0.0000e+00\n",
            "Epoch 42/50\n",
            "4988/4988 [==============================] - 6s 1ms/step - loss: 0.7542 - mse: 0.7542 - mae: 0.4282 - accuracy: 4.6989e-06 - val_loss: 0.7247 - val_mse: 0.7247 - val_mae: 0.4246 - val_accuracy: 0.0000e+00\n",
            "Epoch 43/50\n",
            "4988/4988 [==============================] - 7s 1ms/step - loss: 0.7503 - mse: 0.7503 - mae: 0.4273 - accuracy: 4.6989e-06 - val_loss: 0.7288 - val_mse: 0.7288 - val_mae: 0.4291 - val_accuracy: 0.0000e+00\n",
            "Epoch 44/50\n",
            "4988/4988 [==============================] - 7s 1ms/step - loss: 0.7449 - mse: 0.7449 - mae: 0.4260 - accuracy: 4.6989e-06 - val_loss: 0.7184 - val_mse: 0.7184 - val_mae: 0.4231 - val_accuracy: 0.0000e+00\n",
            "Epoch 45/50\n",
            "4988/4988 [==============================] - 7s 1ms/step - loss: 0.7417 - mse: 0.7417 - mae: 0.4248 - accuracy: 4.6989e-06 - val_loss: 0.7116 - val_mse: 0.7116 - val_mae: 0.4223 - val_accuracy: 0.0000e+00\n",
            "Epoch 46/50\n",
            "4988/4988 [==============================] - 6s 1ms/step - loss: 0.7374 - mse: 0.7374 - mae: 0.4236 - accuracy: 4.6989e-06 - val_loss: 0.7074 - val_mse: 0.7074 - val_mae: 0.4201 - val_accuracy: 0.0000e+00\n",
            "Epoch 47/50\n",
            "4988/4988 [==============================] - 6s 1ms/step - loss: 0.7324 - mse: 0.7324 - mae: 0.4229 - accuracy: 4.6989e-06 - val_loss: 0.7053 - val_mse: 0.7053 - val_mae: 0.4194 - val_accuracy: 0.0000e+00\n",
            "Epoch 48/50\n",
            "4988/4988 [==============================] - 6s 1ms/step - loss: 0.7297 - mse: 0.7297 - mae: 0.4216 - accuracy: 4.6989e-06 - val_loss: 0.7006 - val_mse: 0.7006 - val_mae: 0.4186 - val_accuracy: 0.0000e+00\n",
            "Epoch 49/50\n",
            "4988/4988 [==============================] - 6s 1ms/step - loss: 0.7241 - mse: 0.7241 - mae: 0.4205 - accuracy: 4.6989e-06 - val_loss: 0.7040 - val_mse: 0.7040 - val_mae: 0.4217 - val_accuracy: 0.0000e+00\n",
            "Epoch 50/50\n",
            "4988/4988 [==============================] - 6s 1ms/step - loss: 0.7201 - mse: 0.7201 - mae: 0.4197 - accuracy: 4.6989e-06 - val_loss: 0.6909 - val_mse: 0.6909 - val_mae: 0.4157 - val_accuracy: 0.0000e+00\n"
          ],
          "name": "stdout"
        }
      ]
    },
    {
      "cell_type": "markdown",
      "metadata": {
        "id": "AW4SEP8kT2ls"
      },
      "source": [
        "## Question 10"
      ]
    },
    {
      "cell_type": "markdown",
      "metadata": {
        "id": "EJDoix_7JU61"
      },
      "source": [
        "### Evaluate the model\n",
        "- Evaluate the model on test data"
      ]
    },
    {
      "cell_type": "code",
      "metadata": {
        "id": "HdH8pYBIjHGL",
        "outputId": "4a6b7a53-8e79-4e53-cc70-39a8c54bf60b",
        "colab": {
          "base_uri": "https://localhost:8080/"
        }
      },
      "source": [
        "model.evaluate(x_test, y_test)"
      ],
      "execution_count": 208,
      "outputs": [
        {
          "output_type": "stream",
          "text": [
            "6651/6651 [==============================] - 5s 794us/step - loss: 0.6909 - mse: 0.6909 - mae: 0.4157 - accuracy: 0.0000e+00\n"
          ],
          "name": "stdout"
        },
        {
          "output_type": "execute_result",
          "data": {
            "text/plain": [
              "[0.690850555896759, 0.690850555896759, 0.41569194197654724, 0.0]"
            ]
          },
          "metadata": {
            "tags": []
          },
          "execution_count": 208
        }
      ]
    },
    {
      "cell_type": "markdown",
      "metadata": {
        "id": "hUpDD74Xjh01"
      },
      "source": [
        "### Manual predictions\n",
        "- Test the predictions on manual inputs\n",
        "- We have scaled out training data, so we need to transform our custom inputs using the object of the scaler\n",
        "- Example of manual input: [123.430000,\t122.30999, 116.250000]"
      ]
    },
    {
      "cell_type": "code",
      "metadata": {
        "id": "fvuH-c31lLiJ",
        "outputId": "195cc9ef-df1d-46b8-a81f-328153fee84f",
        "colab": {
          "base_uri": "https://localhost:8080/"
        }
      },
      "source": [
        "input_data = np.expand_dims([123.430000, 122.30999, 116.250000], axis=0)\n",
        "pred = model.predict(input_data)\n",
        "pred"
      ],
      "execution_count": 209,
      "outputs": [
        {
          "output_type": "execute_result",
          "data": {
            "text/plain": [
              "array([[10081.061]], dtype=float32)"
            ]
          },
          "metadata": {
            "tags": []
          },
          "execution_count": 209
        }
      ]
    },
    {
      "cell_type": "code",
      "metadata": {
        "id": "SZdYmpzr_hjR",
        "outputId": "dda0d7b2-8727-4002-f7d2-3b70aa2af0be",
        "colab": {
          "base_uri": "https://localhost:8080/"
        }
      },
      "source": [
        "print(tf.__version__)"
      ],
      "execution_count": 210,
      "outputs": [
        {
          "output_type": "stream",
          "text": [
            "2.3.0\n"
          ],
          "name": "stdout"
        }
      ]
    },
    {
      "cell_type": "markdown",
      "metadata": {
        "id": "4WH1Pr4KQlCh"
      },
      "source": [
        "# Build a DNN"
      ]
    },
    {
      "cell_type": "markdown",
      "metadata": {
        "id": "74cQBsi5QlCw"
      },
      "source": [
        "### Collect Fashion mnist data from tf.keras.datasets "
      ]
    },
    {
      "cell_type": "code",
      "metadata": {
        "id": "wVWy0oDTr2Kj"
      },
      "source": [
        "fashion = tf.keras.datasets.fashion_mnist"
      ],
      "execution_count": 211,
      "outputs": []
    },
    {
      "cell_type": "code",
      "metadata": {
        "id": "dNq_FwhiGvHt"
      },
      "source": [
        "(x_train, y_train), (x_test, y_test) = fashion.load_data()"
      ],
      "execution_count": 212,
      "outputs": []
    },
    {
      "cell_type": "code",
      "metadata": {
        "id": "OwbSxNaXG6x7",
        "outputId": "aa202b7b-edbe-41b7-ecb7-ad374a9027bc",
        "colab": {
          "base_uri": "https://localhost:8080/"
        }
      },
      "source": [
        "print(\"X_train Shape: \", x_train.shape)\n",
        "print(\"Y_train Shape: \", y_train.shape)\n",
        "print(\"X_test Shape: \", x_test.shape)\n",
        "print(\"y_test Shape: \", y_test.shape)"
      ],
      "execution_count": 213,
      "outputs": [
        {
          "output_type": "stream",
          "text": [
            "X_train Shape:  (60000, 28, 28)\n",
            "Y_train Shape:  (60000,)\n",
            "X_test Shape:  (10000, 28, 28)\n",
            "y_test Shape:  (10000,)\n"
          ],
          "name": "stdout"
        }
      ]
    },
    {
      "cell_type": "code",
      "metadata": {
        "id": "0-1DBdbFMEX7",
        "outputId": "afa53a49-6fd5-47ce-aa13-ef945d08cbb5",
        "colab": {
          "base_uri": "https://localhost:8080/"
        }
      },
      "source": [
        "np.unique(y_train, axis= 0)"
      ],
      "execution_count": 214,
      "outputs": [
        {
          "output_type": "execute_result",
          "data": {
            "text/plain": [
              "array([0, 1, 2, 3, 4, 5, 6, 7, 8, 9], dtype=uint8)"
            ]
          },
          "metadata": {
            "tags": []
          },
          "execution_count": 214
        }
      ]
    },
    {
      "cell_type": "code",
      "metadata": {
        "id": "4W8BR-veJr3E",
        "outputId": "44d97fa2-823a-4e7b-864e-1a5cea4228be",
        "colab": {
          "base_uri": "https://localhost:8080/",
          "height": 319
        }
      },
      "source": [
        "plt.figure(figsize= (8,5))\n",
        "for i in range(9):\n",
        "    plt.subplot(330+ i +1)\n",
        "    plt.imshow(x_train[i], cmap='gray')\n",
        "    plt.axis('off')\n",
        "    plt.title(y_train[i])\n",
        "plt.show()\n"
      ],
      "execution_count": 215,
      "outputs": [
        {
          "output_type": "display_data",
          "data": {
            "image/png": "[encoded data removed]",
            "text/plain": [
              "<Figure size 576x360 with 9 Axes>"
            ]
          },
          "metadata": {
            "tags": [],
            "needs_background": "light"
          }
        }
      ]
    },
    {
      "cell_type": "markdown",
      "metadata": {
        "id": "no7aWYZyQlC1"
      },
      "source": [
        "### Change train and test labels into one-hot vectors"
      ]
    },
    {
      "cell_type": "code",
      "metadata": {
        "id": "lUs_RrfvHRlk"
      },
      "source": [
        "y_train = tf.keras.utils.to_categorical(y_train, num_classes=10)\n",
        "y_test = tf.keras.utils.to_categorical(y_test, num_classes=10)"
      ],
      "execution_count": 216,
      "outputs": []
    },
    {
      "cell_type": "markdown",
      "metadata": {
        "id": "QjNrRTdoQlC5"
      },
      "source": [
        "### Build the Graph"
      ]
    },
    {
      "cell_type": "markdown",
      "metadata": {
        "id": "CDJ9DHVNQlC7"
      },
      "source": [
        "### Initialize model, reshape & normalize data"
      ]
    },
    {
      "cell_type": "code",
      "metadata": {
        "id": "pCDQs_g1QlC8"
      },
      "source": [
        "x_train = (x_train/255.0).astype('float32')\n",
        "x_test = (x_test/255.0).astype('float32')"
      ],
      "execution_count": 217,
      "outputs": []
    },
    {
      "cell_type": "code",
      "metadata": {
        "id": "_L1FRY9RTTBP"
      },
      "source": [
        "x_train= x_train.reshape(x_train.shape[0], 28, 28, 1)\n",
        "x_test= x_test.reshape(x_test.shape[0], 28, 28, 1)"
      ],
      "execution_count": 218,
      "outputs": []
    },
    {
      "cell_type": "code",
      "metadata": {
        "id": "nTEe6ujlTajc",
        "outputId": "8ad28e52-c4ad-459e-bb85-8d32fb10ba00",
        "colab": {
          "base_uri": "https://localhost:8080/"
        }
      },
      "source": [
        "x_train.shape"
      ],
      "execution_count": 219,
      "outputs": [
        {
          "output_type": "execute_result",
          "data": {
            "text/plain": [
              "(60000, 28, 28, 1)"
            ]
          },
          "metadata": {
            "tags": []
          },
          "execution_count": 219
        }
      ]
    },
    {
      "cell_type": "markdown",
      "metadata": {
        "id": "ZE7FdSDTRteS"
      },
      "source": [
        ""
      ]
    },
    {
      "cell_type": "markdown",
      "metadata": {
        "id": "kBGwTTilQlDD"
      },
      "source": [
        "### Add two fully connected layers with 200 and 100 neurons respectively with `relu` activations. Add a dropout layer with `p=0.25`"
      ]
    },
    {
      "cell_type": "code",
      "metadata": {
        "id": "IXbfpfOzQlDF"
      },
      "source": [
        "model = keras.Sequential([\n",
        "        keras.layers.Flatten(input_shape= [28,28]),\n",
        "        keras.layers.BatchNormalization(),\n",
        "\n",
        "        keras.layers.Dense(200, activation= 'relu', kernel_initializer= 'he_normal'),\n",
        "        keras.layers.BatchNormalization(),\n",
        "        keras.layers.Dropout(0.25),\n",
        "\n",
        "        \n",
        "        keras.layers.Dense(100, activation= 'relu', kernel_initializer= 'he_normal'),\n",
        "        keras.layers.BatchNormalization(),\n",
        "        keras.layers.Dropout(0.25),\n",
        "\n",
        "        keras.layers.Dense(10, activation= 'softmax')\n",
        "])"
      ],
      "execution_count": 220,
      "outputs": []
    },
    {
      "cell_type": "code",
      "metadata": {
        "id": "a0_hHjr6IyFa",
        "outputId": "e6419066-6f97-4df7-9f06-a7633cb1bd0c",
        "colab": {
          "base_uri": "https://localhost:8080/"
        }
      },
      "source": [
        "model.summary()"
      ],
      "execution_count": 221,
      "outputs": [
        {
          "output_type": "stream",
          "text": [
            "Model: \"sequential_1\"\n",
            "_________________________________________________________________\n",
            "Layer (type)                 Output Shape              Param #   \n",
            "=================================================================\n",
            "flatten_1 (Flatten)          (None, 784)               0         \n",
            "_________________________________________________________________\n",
            "batch_normalization (BatchNo (None, 784)               3136      \n",
            "_________________________________________________________________\n",
            "dense_1 (Dense)              (None, 200)               157000    \n",
            "_________________________________________________________________\n",
            "batch_normalization_1 (Batch (None, 200)               800       \n",
            "_________________________________________________________________\n",
            "dropout (Dropout)            (None, 200)               0         \n",
            "_________________________________________________________________\n",
            "dense_2 (Dense)              (None, 100)               20100     \n",
            "_________________________________________________________________\n",
            "batch_normalization_2 (Batch (None, 100)               400       \n",
            "_________________________________________________________________\n",
            "dropout_1 (Dropout)          (None, 100)               0         \n",
            "_________________________________________________________________\n",
            "dense_3 (Dense)              (None, 10)                1010      \n",
            "=================================================================\n",
            "Total params: 182,446\n",
            "Trainable params: 180,278\n",
            "Non-trainable params: 2,168\n",
            "_________________________________________________________________\n"
          ],
          "name": "stdout"
        }
      ]
    },
    {
      "cell_type": "markdown",
      "metadata": {
        "id": "5I8f5otcQlDJ"
      },
      "source": [
        "### Add the output layer with a fully connected layer with 10 neurons with `softmax` activation. Use `categorical_crossentropy` loss and `adam` optimizer and train the network. And, report the final validation."
      ]
    },
    {
      "cell_type": "code",
      "metadata": {
        "id": "ugiGo84qT5cD",
        "outputId": "14c1facf-7074-4aa3-d3a4-0652049295ce",
        "colab": {
          "base_uri": "https://localhost:8080/",
          "height": 953
        }
      },
      "source": [
        "tf.keras.utils.plot_model(model)"
      ],
      "execution_count": 222,
      "outputs": [
        {
          "output_type": "execute_result",
          "data": {
            "image/png": "[encoded data removed]",
            "text/plain": [
              "<IPython.core.display.Image object>"
            ]
          },
          "metadata": {
            "tags": []
          },
          "execution_count": 222
        }
      ]
    },
    {
      "cell_type": "code",
      "metadata": {
        "id": "JZkvKymSd0Sr"
      },
      "source": [
        "model.compile(optimizer='adam', loss = 'categorical_crossentropy', metrics=['accuracy'])"
      ],
      "execution_count": 223,
      "outputs": []
    },
    {
      "cell_type": "code",
      "metadata": {
        "id": "mZJ2-J0JJKPd"
      },
      "source": [
        "lr_scheduler = keras.callbacks.ReduceLROnPlateau(factor = 0.5, patience= 5)\n",
        "early_stop = keras.callbacks.EarlyStopping(patience=10, restore_best_weights= True)"
      ],
      "execution_count": 224,
      "outputs": []
    },
    {
      "cell_type": "code",
      "metadata": {
        "id": "i8Q8G4jeEui3",
        "outputId": "07a57b71-5c81-40e5-98f6-4e9bfabce72b",
        "colab": {
          "base_uri": "https://localhost:8080/"
        }
      },
      "source": [
        "history= model.fit(x_train, y_train, epochs= 200, validation_data=(x_test, y_test),\n",
        "                   callbacks= [early_stop, lr_scheduler], batch_size= 128)"
      ],
      "execution_count": 225,
      "outputs": [
        {
          "output_type": "stream",
          "text": [
            "Epoch 1/200\n",
            "469/469 [==============================] - 4s 9ms/step - loss: 0.5606 - accuracy: 0.8042 - val_loss: 0.4061 - val_accuracy: 0.8530\n",
            "Epoch 2/200\n",
            "469/469 [==============================] - 4s 9ms/step - loss: 0.4055 - accuracy: 0.8536 - val_loss: 0.3711 - val_accuracy: 0.8651\n",
            "Epoch 3/200\n",
            "469/469 [==============================] - 4s 9ms/step - loss: 0.3649 - accuracy: 0.8675 - val_loss: 0.3572 - val_accuracy: 0.8704\n",
            "Epoch 4/200\n",
            "469/469 [==============================] - 4s 9ms/step - loss: 0.3399 - accuracy: 0.8749 - val_loss: 0.3400 - val_accuracy: 0.8788\n",
            "Epoch 5/200\n",
            "469/469 [==============================] - 4s 9ms/step - loss: 0.3217 - accuracy: 0.8812 - val_loss: 0.3357 - val_accuracy: 0.8786\n",
            "Epoch 6/200\n",
            "469/469 [==============================] - 4s 9ms/step - loss: 0.3076 - accuracy: 0.8863 - val_loss: 0.3225 - val_accuracy: 0.8823\n",
            "Epoch 7/200\n",
            "469/469 [==============================] - 4s 9ms/step - loss: 0.2964 - accuracy: 0.8909 - val_loss: 0.3186 - val_accuracy: 0.8817\n",
            "Epoch 8/200\n",
            "469/469 [==============================] - 4s 9ms/step - loss: 0.2853 - accuracy: 0.8945 - val_loss: 0.3204 - val_accuracy: 0.8839\n",
            "Epoch 9/200\n",
            "469/469 [==============================] - 4s 9ms/step - loss: 0.2745 - accuracy: 0.8980 - val_loss: 0.3162 - val_accuracy: 0.8863\n",
            "Epoch 10/200\n",
            "469/469 [==============================] - 4s 9ms/step - loss: 0.2664 - accuracy: 0.9013 - val_loss: 0.3175 - val_accuracy: 0.8871\n",
            "Epoch 11/200\n",
            "469/469 [==============================] - 4s 9ms/step - loss: 0.2563 - accuracy: 0.9055 - val_loss: 0.3123 - val_accuracy: 0.8911\n",
            "Epoch 12/200\n",
            "469/469 [==============================] - 4s 9ms/step - loss: 0.2512 - accuracy: 0.9075 - val_loss: 0.3061 - val_accuracy: 0.8916\n",
            "Epoch 13/200\n",
            "469/469 [==============================] - 4s 9ms/step - loss: 0.2421 - accuracy: 0.9099 - val_loss: 0.3060 - val_accuracy: 0.8889\n",
            "Epoch 14/200\n",
            "469/469 [==============================] - 4s 9ms/step - loss: 0.2388 - accuracy: 0.9110 - val_loss: 0.3065 - val_accuracy: 0.8910\n",
            "Epoch 15/200\n",
            "469/469 [==============================] - 4s 9ms/step - loss: 0.2337 - accuracy: 0.9121 - val_loss: 0.3044 - val_accuracy: 0.8921\n",
            "Epoch 16/200\n",
            "469/469 [==============================] - 4s 9ms/step - loss: 0.2307 - accuracy: 0.9138 - val_loss: 0.2973 - val_accuracy: 0.8907\n",
            "Epoch 17/200\n",
            "469/469 [==============================] - 4s 9ms/step - loss: 0.2225 - accuracy: 0.9165 - val_loss: 0.3063 - val_accuracy: 0.8918\n",
            "Epoch 18/200\n",
            "469/469 [==============================] - 4s 9ms/step - loss: 0.2171 - accuracy: 0.9187 - val_loss: 0.3045 - val_accuracy: 0.8925\n",
            "Epoch 19/200\n",
            "469/469 [==============================] - 4s 9ms/step - loss: 0.2149 - accuracy: 0.9202 - val_loss: 0.3079 - val_accuracy: 0.8938\n",
            "Epoch 20/200\n",
            "469/469 [==============================] - 4s 9ms/step - loss: 0.2111 - accuracy: 0.9200 - val_loss: 0.3003 - val_accuracy: 0.8931\n",
            "Epoch 21/200\n",
            "469/469 [==============================] - 4s 9ms/step - loss: 0.2043 - accuracy: 0.9235 - val_loss: 0.3060 - val_accuracy: 0.8979\n",
            "Epoch 22/200\n",
            "469/469 [==============================] - 4s 9ms/step - loss: 0.1810 - accuracy: 0.9322 - val_loss: 0.2943 - val_accuracy: 0.9000\n",
            "Epoch 23/200\n",
            "469/469 [==============================] - 4s 9ms/step - loss: 0.1740 - accuracy: 0.9345 - val_loss: 0.2994 - val_accuracy: 0.8994\n",
            "Epoch 24/200\n",
            "469/469 [==============================] - 4s 9ms/step - loss: 0.1692 - accuracy: 0.9363 - val_loss: 0.2988 - val_accuracy: 0.8983\n",
            "Epoch 25/200\n",
            "469/469 [==============================] - 4s 9ms/step - loss: 0.1707 - accuracy: 0.9353 - val_loss: 0.3035 - val_accuracy: 0.9004\n",
            "Epoch 26/200\n",
            "469/469 [==============================] - 4s 9ms/step - loss: 0.1647 - accuracy: 0.9385 - val_loss: 0.3071 - val_accuracy: 0.8979\n",
            "Epoch 27/200\n",
            "469/469 [==============================] - 4s 9ms/step - loss: 0.1612 - accuracy: 0.9405 - val_loss: 0.3052 - val_accuracy: 0.8979\n",
            "Epoch 28/200\n",
            "469/469 [==============================] - 4s 9ms/step - loss: 0.1484 - accuracy: 0.9444 - val_loss: 0.3050 - val_accuracy: 0.9018\n",
            "Epoch 29/200\n",
            "469/469 [==============================] - 4s 9ms/step - loss: 0.1436 - accuracy: 0.9467 - val_loss: 0.3059 - val_accuracy: 0.9006\n",
            "Epoch 30/200\n",
            "469/469 [==============================] - 4s 9ms/step - loss: 0.1423 - accuracy: 0.9467 - val_loss: 0.3057 - val_accuracy: 0.9007\n",
            "Epoch 31/200\n",
            "469/469 [==============================] - 4s 9ms/step - loss: 0.1396 - accuracy: 0.9470 - val_loss: 0.3084 - val_accuracy: 0.9022\n",
            "Epoch 32/200\n",
            "469/469 [==============================] - 4s 9ms/step - loss: 0.1396 - accuracy: 0.9475 - val_loss: 0.3078 - val_accuracy: 0.9015\n"
          ],
          "name": "stdout"
        }
      ]
    },
    {
      "cell_type": "code",
      "metadata": {
        "id": "WSiMhJPpk3GO",
        "outputId": "729c12c1-cedc-441c-efd3-96ab208c582a",
        "colab": {
          "base_uri": "https://localhost:8080/",
          "height": 324
        }
      },
      "source": [
        "pd.DataFrame(history.history).plot(figsize=(8,5))\n",
        "plt.grid(True)\n",
        "plt.gca().set_ylim(0,1)\n",
        "plt.show()"
      ],
      "execution_count": 226,
      "outputs": [
        {
          "output_type": "display_data",
          "data": {
            "image/png": "[encoded data removed]",
            "text/plain": [
              "<Figure size 576x360 with 1 Axes>"
            ]
          },
          "metadata": {
            "tags": [],
            "needs_background": "light"
          }
        }
      ]
    },
    {
      "cell_type": "code",
      "metadata": {
        "id": "hXVY4Rr-OMkV",
        "outputId": "36f7fc80-4c37-4059-d9ce-40ceb092ff49",
        "colab": {
          "base_uri": "https://localhost:8080/"
        }
      },
      "source": [
        "model.evaluate(x_test, y_test)"
      ],
      "execution_count": 227,
      "outputs": [
        {
          "output_type": "stream",
          "text": [
            "313/313 [==============================] - 0s 1ms/step - loss: 0.2943 - accuracy: 0.9000\n"
          ],
          "name": "stdout"
        },
        {
          "output_type": "execute_result",
          "data": {
            "text/plain": [
              "[0.2943250834941864, 0.8999999761581421]"
            ]
          },
          "metadata": {
            "tags": []
          },
          "execution_count": 227
        }
      ]
    },
    {
      "cell_type": "markdown",
      "metadata": {
        "id": "EF_gmwEIOe0j"
      },
      "source": [
        "Model is having accuracy which is good and doesnot show any signs of over or underfitting. "
      ]
    },
    {
      "cell_type": "code",
      "metadata": {
        "id": "-O7myk8kORfw",
        "outputId": "07e7ed5d-8496-46eb-ee61-fe57229d33f1",
        "colab": {
          "base_uri": "https://localhost:8080/"
        }
      },
      "source": [
        "x_new= x_test[:10]\n",
        "y_proba = model.predict(x_new)\n",
        "y_proba.round(2)"
      ],
      "execution_count": 228,
      "outputs": [
        {
          "output_type": "execute_result",
          "data": {
            "text/plain": [
              "array([[0.  , 0.  , 0.  , 0.  , 0.  , 0.  , 0.  , 0.  , 0.  , 1.  ],\n",
              "       [0.  , 0.  , 1.  , 0.  , 0.  , 0.  , 0.  , 0.  , 0.  , 0.  ],\n",
              "       [0.  , 1.  , 0.  , 0.  , 0.  , 0.  , 0.  , 0.  , 0.  , 0.  ],\n",
              "       [0.  , 1.  , 0.  , 0.  , 0.  , 0.  , 0.  , 0.  , 0.  , 0.  ],\n",
              "       [0.24, 0.  , 0.  , 0.  , 0.  , 0.  , 0.76, 0.  , 0.  , 0.  ],\n",
              "       [0.  , 1.  , 0.  , 0.  , 0.  , 0.  , 0.  , 0.  , 0.  , 0.  ],\n",
              "       [0.  , 0.  , 0.  , 0.  , 1.  , 0.  , 0.  , 0.  , 0.  , 0.  ],\n",
              "       [0.  , 0.  , 0.  , 0.  , 0.  , 0.  , 1.  , 0.  , 0.  , 0.  ],\n",
              "       [0.  , 0.  , 0.  , 0.  , 0.  , 1.  , 0.  , 0.  , 0.  , 0.  ],\n",
              "       [0.  , 0.  , 0.  , 0.  , 0.  , 0.  , 0.  , 1.  , 0.  , 0.  ]],\n",
              "      dtype=float32)"
            ]
          },
          "metadata": {
            "tags": []
          },
          "execution_count": 228
        }
      ]
    },
    {
      "cell_type": "code",
      "metadata": {
        "id": "BfnQ_ic7OvLd"
      },
      "source": [
        "preds = model.predict(x_test)"
      ],
      "execution_count": 229,
      "outputs": []
    },
    {
      "cell_type": "code",
      "metadata": {
        "id": "7QBq3DAOO4hf",
        "outputId": "6a25a7a7-bf6f-486c-dbbb-fcaf70998149",
        "colab": {
          "base_uri": "https://localhost:8080/"
        }
      },
      "source": [
        "print(classification_report(y_test.argmax(axis=1), preds.argmax(axis=1)))"
      ],
      "execution_count": 230,
      "outputs": [
        {
          "output_type": "stream",
          "text": [
            "              precision    recall  f1-score   support\n",
            "\n",
            "           0       0.84      0.86      0.85      1000\n",
            "           1       0.99      0.98      0.99      1000\n",
            "           2       0.82      0.83      0.82      1000\n",
            "           3       0.90      0.91      0.90      1000\n",
            "           4       0.82      0.86      0.84      1000\n",
            "           5       0.98      0.97      0.97      1000\n",
            "           6       0.75      0.70      0.73      1000\n",
            "           7       0.95      0.96      0.96      1000\n",
            "           8       0.98      0.97      0.97      1000\n",
            "           9       0.96      0.96      0.96      1000\n",
            "\n",
            "    accuracy                           0.90     10000\n",
            "   macro avg       0.90      0.90      0.90     10000\n",
            "weighted avg       0.90      0.90      0.90     10000\n",
            "\n"
          ],
          "name": "stdout"
        }
      ]
    }
  ]
}